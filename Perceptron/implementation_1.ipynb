{
 "cells": [
  {
   "cell_type": "code",
   "execution_count": 3,
   "metadata": {},
   "outputs": [],
   "source": []
  },
  {
   "cell_type": "code",
   "execution_count": null,
   "metadata": {},
   "outputs": [],
   "source": [
    "import numpy as np\n",
    "\n",
    "class Perceptron:\n",
    "    \n",
    "    def __init__(self,learning_rate =0.01, n_iterd = 1000):\n",
    "        self.lr = learning_rate\n",
    "        self.n_iterd = n_iterd\n",
    "        self.actuation_func = self.unit_step_func\n",
    "        self.weight = None\n",
    "        self.bias = None\n",
    "        \n",
    "    def fit(self,X,y): # fit the line based on the result ==> it will keep on updating\n",
    "        #First we need to get the dimention of the vector\n",
    "        n_samples,n_features = X.shape # get the number of rows and number of columns\n",
    "        \n",
    "        # then we need to itterate throght the data and update our linear function based on our result \n",
    "        self.weight = np.zeros(n_features)\n",
    "        self.bias = 0\n",
    "        y_=np.array([1 if i>0 else 0 for i in y])\n",
    "        for _ in range(self.n_iterd): # number of itteration \n",
    "            for idx,x_i in enumerate(X):# going through all the datasets\n",
    "                \n",
    "                # now we need to see the difference : Do I had a difference between the predicted and the actual?\n",
    "                linear_output = np.dor(x_i,self.weight) + self.bias\n",
    "                # find the predicted value\n",
    "                y_predicted = self.actuation_func(linear_output)\n",
    "                updated_weight= self.lr(y_[idx] - y_predicted)\n",
    "                self.weight+= updated_weight * x_i\n",
    "                self.biad+= updated_weight\n",
    "\n",
    "        \n",
    "    def predict(self,test_x):\n",
    "        linear_output =np.dot(test_x,self.weight)+ self.bias\n",
    "        y_predicted = self.actuation_func(linear_output)\n",
    "        return y_predicted\n",
    "    \n",
    "    def unit_step_func(self,x):\n",
    "        return np.where(x>=0,1,0) # we need the np.where so we could use this function in multiple dimentions. \n",
    "    "
   ]
  },
 ],
 "metadata": {
  "kernelspec": {
   "display_name": "Python 3",
   "language": "python",
   "name": "python3"
  },
  "language_info": {
   "codemirror_mode": {
    "name": "ipython",
    "version": 3
   },
   "file_extension": ".py",
   "mimetype": "text/x-python",
   "name": "python",
   "nbconvert_exporter": "python",
   "pygments_lexer": "ipython3",
   "version": "3.6.8"
  }
 },
 "nbformat": 4,
 "nbformat_minor": 4
}
