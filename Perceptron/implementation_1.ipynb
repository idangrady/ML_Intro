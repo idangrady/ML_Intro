{
 "cells": [
  {
   "cell_type": "code",
   "execution_count": 3,
   "metadata": {},
   "outputs": [],
   "source": []
  },
  {
   "cell_type": "code",
   "execution_count": null,
   "metadata": {},
   "outputs": [],
   "source": [
    "import numpy as np\n",
    "\n",
    "class Perceptron:\n",
    "    \n",
    "    def __init__(self,learning_rate =0.01, n_iterd = 1000):\n",
    "        self.lr = learning_rate\n",
    "        self.n_iterd = n_iterd\n",
    "        self.actuation_func = self.unit_step_func\n",
    "        self.weight = None\n",
    "        self.bias = None\n",
    "        \n",
    "    def fit(self,X,y): # fit the line based on the result ==> it will keep on updating\n",
    "        #First we need to get the dimention of the vector\n",
    "        n_samples,n_features = X.shape # get the number of rows and number of columns\n",
    "        \n",
    "        # then we need to itterate throght the data and update our linear function based on our result \n",
    "        self.weight = np.zeros(n_features)\n",
    "        self.bias = 0\n",
    "        y_=np.array([1 if i>0 else 0 for i in y])\n",
    "        for _ in range(self.n_iterd): # number of itteration \n",
    "            for idx,x_i in enumerate(X):# going through all the datasets\n",
    "                \n",
    "                # now we need to see the difference : Do I had a difference between the predicted and the actual?\n",
    "                linear_output = np.dor(x_i,self.weight) + self.bias\n",
    "                # find the predicted value\n",
    "                y_predicted = self.actuation_func(linear_output)\n",
    "                updated_weight= self.lr(y_[idx] - y_predicted)\n",
    "                self.weight+= updated_weight * x_i\n",
    "                self.biad+= updated_weight\n",
    "\n",
    "        \n",
    "    def predict(self,test_x):\n",
    "        linear_output =np.dot(test_x,self.weight)+ self.bias\n",
    "        y_predicted = self.actuation_func(linear_output)\n",
    "        return y_predicted\n",
    "    \n",
    "    def unit_step_func(self,x):\n",
    "        return np.where(x>=0,1,0) # we need the np.where so we could use this function in multiple dimentions. \n",
    "    "
   ]
  },
  {
   "cell_type": "code",
   "execution_count": 8,
   "metadata": {},
   "outputs": [
    {
     "data": {
      "text/plain": [
       "array([1, 0, 1])"
      ]
     },
     "execution_count": 8,
     "metadata": {},
     "output_type": "execute_result"
    }
   ],
   "source": [
    "y = np.array([2,-5,1])\n",
    "y_=np.array([1 if i>0 else 0 for i in y])\n",
    "y_"
   ]
  },
  {
   "cell_type": "code",
   "execution_count": 12,
   "metadata": {},
   "outputs": [
    {
     "data": {
      "text/plain": [
       "(2, 2)"
      ]
     },
     "execution_count": 12,
     "metadata": {},
     "output_type": "execute_result"
    }
   ],
   "source": [
    "a = [(3,0),(5,0)]\n",
    "np.array(a).shape"
   ]
  },
  {
   "cell_type": "code",
   "execution_count": 13,
   "metadata": {},
   "outputs": [],
   "source": [
    "def eval_learning_alg(L, G, n):\n",
    "    # draw a set of n training examples (points and labels)\n",
    "    train_X, train_y = G(n)\n",
    "    # run L\n",
    "    h = L(train_X, train_y)\n",
    "    # evaluate using your classifier scoring procedure, on some new labeled data\n",
    "    test_data = G(n) # draw new set of test data\n",
    "    return eval_classifier(h, test_data)\n"
   ]
  },
  {
   "cell_type": "code",
   "execution_count": 17,
   "metadata": {},
   "outputs": [
    {
     "ename": "TypeError",
     "evalue": "'int' object is not iterable",
     "output_type": "error",
     "traceback": [
      "\u001b[1;31m---------------------------------------------------------------------------\u001b[0m",
      "\u001b[1;31mTypeError\u001b[0m                                 Traceback (most recent call last)",
      "\u001b[1;32m<ipython-input-17-3058ff98f232>\u001b[0m in \u001b[0;36m<module>\u001b[1;34m\u001b[0m\n\u001b[1;32m----> 1\u001b[1;33m \u001b[0mtrain\u001b[0m\u001b[1;33m,\u001b[0m \u001b[0mtrain_2\u001b[0m \u001b[1;33m=\u001b[0m \u001b[1;33m(\u001b[0m\u001b[1;36m50\u001b[0m\u001b[1;33m)\u001b[0m\u001b[1;33m\u001b[0m\u001b[1;33m\u001b[0m\u001b[0m\n\u001b[0m",
      "\u001b[1;31mTypeError\u001b[0m: 'int' object is not iterable"
     ]
    }
   ],
   "source": [
    "train, train_2 = (50)"
   ]
  },
  {
   "cell_type": "code",
   "execution_count": null,
   "metadata": {},
   "outputs": [],
   "source": []
  }
 ],
 "metadata": {
  "kernelspec": {
   "display_name": "Python 3",
   "language": "python",
   "name": "python3"
  },
  "language_info": {
   "codemirror_mode": {
    "name": "ipython",
    "version": 3
   },
   "file_extension": ".py",
   "mimetype": "text/x-python",
   "name": "python",
   "nbconvert_exporter": "python",
   "pygments_lexer": "ipython3",
   "version": "3.6.8"
  }
 },
 "nbformat": 4,
 "nbformat_minor": 4
}
